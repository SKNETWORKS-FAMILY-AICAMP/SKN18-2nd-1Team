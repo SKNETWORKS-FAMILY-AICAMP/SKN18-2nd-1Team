{
 "cells": [
  {
   "cell_type": "markdown",
   "id": "d62ff0c9",
   "metadata": {},
   "source": [
    "# 임시 파일입니다\n",
    "- 여기에 작업하거나 새 파일로 추가 가능"
   ]
  }
 ],
 "metadata": {
  "language_info": {
   "name": "python"
  }
 },
 "nbformat": 4,
 "nbformat_minor": 5
}
